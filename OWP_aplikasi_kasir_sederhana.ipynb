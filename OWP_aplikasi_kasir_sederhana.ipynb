{
  "cells": [
    {
      "cell_type": "code",
      "execution_count": null,
      "metadata": {
        "colab": {
          "base_uri": "https://localhost:8080/"
        },
        "id": "9fKjIgvChcyW",
        "outputId": "d0c66ef6-ba9a-433a-b721-5e65db17d6ab"
      },
      "outputs": [
        {
          "name": "stdout",
          "output_type": "stream",
          "text": [
            "SELAMAT DATANG DI WARUNG SEDERHANA\n"
          ]
        }
      ],
      "source": [
        "print(\"SELAMAT DATANG DI WARUNG SEDERHANA\")"
      ]
    },
    {
      "cell_type": "code",
      "source": [],
      "metadata": {
        "id": "hm4ifeHjWWcn"
      },
      "execution_count": null,
      "outputs": []
    },
    {
      "cell_type": "code",
      "execution_count": null,
      "metadata": {
        "colab": {
          "base_uri": "https://localhost:8080/"
        },
        "id": "xtY2uq-Dd28f",
        "outputId": "311808e5-3092-4684-ac3e-4999aab4c9e3"
      },
      "outputs": [
        {
          "output_type": "stream",
          "name": "stdout",
          "text": [
            "\n",
            "--- Menu Warung Sederhana ---\n",
            "1. Rokok Esse - Rp20000\n",
            "2. Indomie - Rp3000\n",
            "3. Aqua - Rp5000\n",
            "4. Roti - Rp2000\n",
            "5. Keripik pisang - Rp5000\n",
            "6. Susu Beruang - Rp12000\n",
            "\n",
            "Masukkan nama menu yang ingin dipesan (atau ketik 'selesai' untuk keluar): AQUA\n",
            "Masukkan jumlah Aqua: 2\n",
            "2 Aqua ditambahkan ke pesanan.\n",
            "\n",
            "--- Menu Warung Sederhana ---\n",
            "1. Rokok Esse - Rp20000\n",
            "2. Indomie - Rp3000\n",
            "3. Aqua - Rp5000\n",
            "4. Roti - Rp2000\n",
            "5. Keripik pisang - Rp5000\n",
            "6. Susu Beruang - Rp12000\n",
            "\n",
            "Masukkan nama menu yang ingin dipesan (atau ketik 'selesai' untuk keluar): ROTI\n",
            "Masukkan jumlah Roti: 1\n",
            "1 Roti ditambahkan ke pesanan.\n",
            "\n",
            "--- Menu Warung Sederhana ---\n",
            "1. Rokok Esse - Rp20000\n",
            "2. Indomie - Rp3000\n",
            "3. Aqua - Rp5000\n",
            "4. Roti - Rp2000\n",
            "5. Keripik pisang - Rp5000\n",
            "6. Susu Beruang - Rp12000\n",
            "\n",
            "Masukkan nama menu yang ingin dipesan (atau ketik 'selesai' untuk keluar): SELESAI\n",
            "\n",
            "--- Struk Pembelian ---\n",
            "Aqua x2 - Rp10000\n",
            "Roti x1 - Rp2000\n",
            "\n",
            "Total Harga: Rp12000\n",
            "Terima kasih telah berbelanja di Warung Sederhana !\n"
          ]
        }
      ],
      "source": [
        "class KasirWarungSederhana:\n",
        "    def __init__(self):\n",
        "        # Daftar menu dan harga\n",
        "        self.menu = {\n",
        "            \"Rokok Esse\": 20000,\n",
        "            \"Indomie\": 3000,\n",
        "            \"Aqua\": 5000,\n",
        "            \"Roti\": 2000,\n",
        "            \"Keripik pisang\": 5000,\n",
        "            \"Susu Beruang\": 12000\n",
        "        }\n",
        "        self.pesanan = {}\n",
        "\n",
        "    def tampilkan_menu(self):\n",
        "        \"\"\"Menampilkan menu makanan dan minuman yang tersedia.\"\"\"\n",
        "        print(\"\\n--- Menu Warung Sederhana ---\")\n",
        "        for idx, (item, harga) in enumerate(self.menu.items(), 1):\n",
        "            print(f\"{idx}. {item} - Rp{harga}\")\n",
        "        print()\n",
        "\n",
        "    def tambah_pesanan(self, nama_menu, jumlah):\n",
        "        \"\"\"Menambahkan pesanan ke daftar pesanan.\"\"\"\n",
        "        if nama_menu in self.menu:\n",
        "            if nama_menu in self.pesanan:\n",
        "                self.pesanan[nama_menu] += jumlah\n",
        "            else:\n",
        "                self.pesanan[nama_menu] = jumlah\n",
        "            print(f\"{jumlah} {nama_menu} ditambahkan ke pesanan.\")\n",
        "        else:\n",
        "            print(f\"Maaf, {nama_menu} tidak tersedia dalam menu.\")\n",
        "\n",
        "    def hitung_total(self):\n",
        "        \"\"\"Menghitung total harga pesanan.\"\"\"\n",
        "        total = 0\n",
        "        for item, jumlah in self.pesanan.items():\n",
        "            total += self.menu[item] * jumlah\n",
        "        return total\n",
        "\n",
        "    def cetak_struk(self):\n",
        "        \"\"\"Mencetak struk belanja.\"\"\"\n",
        "        print(\"\\n--- Struk Pembelian ---\")\n",
        "        for item, jumlah in self.pesanan.items():\n",
        "            harga = self.menu[item]\n",
        "            total_harga = harga * jumlah\n",
        "            print(f\"{item} x{jumlah} - Rp{total_harga}\")\n",
        "        total_bayar = self.hitung_total()\n",
        "        print(f\"\\nTotal Harga: Rp{total_bayar}\")\n",
        "        print(\"Terima kasih telah berbelanja di Warung Sederhana !\")\n",
        "\n",
        "    def jalankan(self):\n",
        "        \"\"\"Menjalankan aplikasi kasir.\"\"\"\n",
        "        while True:\n",
        "            self.tampilkan_menu()\n",
        "            nama_menu = input(\"Masukkan nama menu yang ingin dipesan (atau ketik 'selesai' untuk keluar): \").title()\n",
        "            if nama_menu.lower() == \"selesai\":\n",
        "                break\n",
        "            try:\n",
        "                jumlah = int(input(f\"Masukkan jumlah {nama_menu}: \"))\n",
        "                self.tambah_pesanan(nama_menu, jumlah)\n",
        "            except ValueError:\n",
        "                print(\"Input tidak valid, silakan masukkan jumlah yang benar.\")\n",
        "\n",
        "        self.cetak_struk()\n",
        "\n",
        "# Fungsi utama untuk menjalankan aplikasi kasir\n",
        "if __name__ == \"__main__\":\n",
        "    kasir = KasirWarungSederhana()\n",
        "    kasir.jalankan()\n"
      ]
    }
  ],
  "metadata": {
    "colab": {
      "provenance": []
    },
    "kernelspec": {
      "display_name": "Python 3",
      "name": "python3"
    },
    "language_info": {
      "name": "python"
    }
  },
  "nbformat": 4,
  "nbformat_minor": 0
}